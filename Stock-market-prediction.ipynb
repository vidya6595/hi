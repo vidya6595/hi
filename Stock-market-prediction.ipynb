{
 "cells": [
  {
   "cell_type": "code",
   "execution_count": 1,
   "id": "d04aed20",
   "metadata": {},
   "outputs": [],
   "source": [
    "import pandas as pd\n",
    "import matplotlib.pyplot as plt\n",
    "import numpy as np\n",
    "from sklearn import metrics\n",
    "from sklearn.model_selection import train_test_split\n",
    "from sklearn.linear_model import LinearRegression\n",
    "from matplotlib import style\n",
    "plt.style.use(\"bmh\")"
   ]
  },
  {
   "cell_type": "code",
   "execution_count": 2,
   "id": "8b9c9594",
   "metadata": {},
   "outputs": [],
   "source": [
    "style.use('ggplot')"
   ]
  },
  {
   "cell_type": "code",
   "execution_count": 3,
   "id": "756a45e2",
   "metadata": {},
   "outputs": [
    {
     "data": {
      "text/html": [
       "<div>\n",
       "<style scoped>\n",
       "    .dataframe tbody tr th:only-of-type {\n",
       "        vertical-align: middle;\n",
       "    }\n",
       "\n",
       "    .dataframe tbody tr th {\n",
       "        vertical-align: top;\n",
       "    }\n",
       "\n",
       "    .dataframe thead th {\n",
       "        text-align: right;\n",
       "    }\n",
       "</style>\n",
       "<table border=\"1\" class=\"dataframe\">\n",
       "  <thead>\n",
       "    <tr style=\"text-align: right;\">\n",
       "      <th></th>\n",
       "      <th>Date</th>\n",
       "      <th>Open</th>\n",
       "      <th>High</th>\n",
       "      <th>Low</th>\n",
       "      <th>Close</th>\n",
       "      <th>Adj Close</th>\n",
       "      <th>Volume</th>\n",
       "    </tr>\n",
       "  </thead>\n",
       "  <tbody>\n",
       "    <tr>\n",
       "      <th>0</th>\n",
       "      <td>2006-03-17</td>\n",
       "      <td>45.000000</td>\n",
       "      <td>48.759998</td>\n",
       "      <td>41.029999</td>\n",
       "      <td>46.509998</td>\n",
       "      <td>40.984562</td>\n",
       "      <td>100305555.0</td>\n",
       "    </tr>\n",
       "    <tr>\n",
       "      <th>1</th>\n",
       "      <td>2006-03-20</td>\n",
       "      <td>46.950001</td>\n",
       "      <td>48.340000</td>\n",
       "      <td>46.000000</td>\n",
       "      <td>47.020000</td>\n",
       "      <td>41.433983</td>\n",
       "      <td>17253200.0</td>\n",
       "    </tr>\n",
       "    <tr>\n",
       "      <th>2</th>\n",
       "      <td>2006-03-21</td>\n",
       "      <td>47.150002</td>\n",
       "      <td>50.740002</td>\n",
       "      <td>47.099998</td>\n",
       "      <td>48.759998</td>\n",
       "      <td>42.967262</td>\n",
       "      <td>26048540.0</td>\n",
       "    </tr>\n",
       "    <tr>\n",
       "      <th>3</th>\n",
       "      <td>2006-03-22</td>\n",
       "      <td>48.740002</td>\n",
       "      <td>48.919998</td>\n",
       "      <td>45.619999</td>\n",
       "      <td>46.480000</td>\n",
       "      <td>40.958141</td>\n",
       "      <td>9556985.0</td>\n",
       "    </tr>\n",
       "    <tr>\n",
       "      <th>4</th>\n",
       "      <td>2006-03-23</td>\n",
       "      <td>46.779999</td>\n",
       "      <td>49.680000</td>\n",
       "      <td>46.779999</td>\n",
       "      <td>48.680000</td>\n",
       "      <td>42.896770</td>\n",
       "      <td>10851120.0</td>\n",
       "    </tr>\n",
       "    <tr>\n",
       "      <th>5</th>\n",
       "      <td>2006-03-24</td>\n",
       "      <td>49.740002</td>\n",
       "      <td>49.740002</td>\n",
       "      <td>48.070000</td>\n",
       "      <td>48.930000</td>\n",
       "      <td>43.117065</td>\n",
       "      <td>5462140.0</td>\n",
       "    </tr>\n",
       "    <tr>\n",
       "      <th>6</th>\n",
       "      <td>2006-03-27</td>\n",
       "      <td>49.000000</td>\n",
       "      <td>49.680000</td>\n",
       "      <td>48.419998</td>\n",
       "      <td>49.230000</td>\n",
       "      <td>43.381432</td>\n",
       "      <td>2789155.0</td>\n",
       "    </tr>\n",
       "    <tr>\n",
       "      <th>7</th>\n",
       "      <td>2006-03-28</td>\n",
       "      <td>49.599998</td>\n",
       "      <td>51.599998</td>\n",
       "      <td>48.700001</td>\n",
       "      <td>50.099998</td>\n",
       "      <td>44.148064</td>\n",
       "      <td>9506885.0</td>\n",
       "    </tr>\n",
       "    <tr>\n",
       "      <th>8</th>\n",
       "      <td>2006-03-29</td>\n",
       "      <td>50.400002</td>\n",
       "      <td>50.830002</td>\n",
       "      <td>49.000000</td>\n",
       "      <td>49.189999</td>\n",
       "      <td>43.346172</td>\n",
       "      <td>1674755.0</td>\n",
       "    </tr>\n",
       "    <tr>\n",
       "      <th>9</th>\n",
       "      <td>2006-03-30</td>\n",
       "      <td>49.799999</td>\n",
       "      <td>50.330002</td>\n",
       "      <td>48.340000</td>\n",
       "      <td>48.610001</td>\n",
       "      <td>42.835091</td>\n",
       "      <td>1291070.0</td>\n",
       "    </tr>\n",
       "  </tbody>\n",
       "</table>\n",
       "</div>"
      ],
      "text/plain": [
       "         Date       Open       High        Low      Close  Adj Close  \\\n",
       "0  2006-03-17  45.000000  48.759998  41.029999  46.509998  40.984562   \n",
       "1  2006-03-20  46.950001  48.340000  46.000000  47.020000  41.433983   \n",
       "2  2006-03-21  47.150002  50.740002  47.099998  48.759998  42.967262   \n",
       "3  2006-03-22  48.740002  48.919998  45.619999  46.480000  40.958141   \n",
       "4  2006-03-23  46.779999  49.680000  46.779999  48.680000  42.896770   \n",
       "5  2006-03-24  49.740002  49.740002  48.070000  48.930000  43.117065   \n",
       "6  2006-03-27  49.000000  49.680000  48.419998  49.230000  43.381432   \n",
       "7  2006-03-28  49.599998  51.599998  48.700001  50.099998  44.148064   \n",
       "8  2006-03-29  50.400002  50.830002  49.000000  49.189999  43.346172   \n",
       "9  2006-03-30  49.799999  50.330002  48.340000  48.610001  42.835091   \n",
       "\n",
       "        Volume  \n",
       "0  100305555.0  \n",
       "1   17253200.0  \n",
       "2   26048540.0  \n",
       "3    9556985.0  \n",
       "4   10851120.0  \n",
       "5    5462140.0  \n",
       "6    2789155.0  \n",
       "7    9506885.0  \n",
       "8    1674755.0  \n",
       "9    1291070.0  "
      ]
     },
     "execution_count": 3,
     "metadata": {},
     "output_type": "execute_result"
    }
   ],
   "source": [
    "MF = pd.read_csv('M&MFIN.NS (1).csv',sep=',')\n",
    "MF.head(10)"
   ]
  },
  {
   "cell_type": "markdown",
   "id": "cd07bee4",
   "metadata": {},
   "source": [
    "## EDA"
   ]
  },
  {
   "cell_type": "code",
   "execution_count": 4,
   "id": "1f01f65e",
   "metadata": {},
   "outputs": [
    {
     "data": {
      "text/plain": [
       "(3849, 7)"
      ]
     },
     "execution_count": 4,
     "metadata": {},
     "output_type": "execute_result"
    }
   ],
   "source": [
    "MF.shape"
   ]
  },
  {
   "cell_type": "code",
   "execution_count": 5,
   "id": "8778cfe9",
   "metadata": {},
   "outputs": [
    {
     "name": "stdout",
     "output_type": "stream",
     "text": [
      "<class 'pandas.core.frame.DataFrame'>\n",
      "RangeIndex: 3849 entries, 0 to 3848\n",
      "Data columns (total 7 columns):\n",
      " #   Column     Non-Null Count  Dtype  \n",
      "---  ------     --------------  -----  \n",
      " 0   Date       3849 non-null   object \n",
      " 1   Open       3835 non-null   float64\n",
      " 2   High       3835 non-null   float64\n",
      " 3   Low        3835 non-null   float64\n",
      " 4   Close      3835 non-null   float64\n",
      " 5   Adj Close  3835 non-null   float64\n",
      " 6   Volume     3835 non-null   float64\n",
      "dtypes: float64(6), object(1)\n",
      "memory usage: 210.6+ KB\n"
     ]
    }
   ],
   "source": [
    "MF.info()"
   ]
  },
  {
   "cell_type": "code",
   "execution_count": 6,
   "id": "5926b525",
   "metadata": {},
   "outputs": [
    {
     "data": {
      "text/plain": [
       "Date          object\n",
       "Open         float64\n",
       "High         float64\n",
       "Low          float64\n",
       "Close        float64\n",
       "Adj Close    float64\n",
       "Volume       float64\n",
       "dtype: object"
      ]
     },
     "execution_count": 6,
     "metadata": {},
     "output_type": "execute_result"
    }
   ],
   "source": [
    "MF.dtypes"
   ]
  },
  {
   "cell_type": "code",
   "execution_count": 7,
   "id": "8fc0b8f8",
   "metadata": {},
   "outputs": [
    {
     "data": {
      "text/html": [
       "<div>\n",
       "<style scoped>\n",
       "    .dataframe tbody tr th:only-of-type {\n",
       "        vertical-align: middle;\n",
       "    }\n",
       "\n",
       "    .dataframe tbody tr th {\n",
       "        vertical-align: top;\n",
       "    }\n",
       "\n",
       "    .dataframe thead th {\n",
       "        text-align: right;\n",
       "    }\n",
       "</style>\n",
       "<table border=\"1\" class=\"dataframe\">\n",
       "  <thead>\n",
       "    <tr style=\"text-align: right;\">\n",
       "      <th></th>\n",
       "      <th>Open</th>\n",
       "      <th>High</th>\n",
       "      <th>Low</th>\n",
       "      <th>Close</th>\n",
       "      <th>Adj Close</th>\n",
       "      <th>Volume</th>\n",
       "    </tr>\n",
       "  </thead>\n",
       "  <tbody>\n",
       "    <tr>\n",
       "      <th>count</th>\n",
       "      <td>3835.000000</td>\n",
       "      <td>3835.000000</td>\n",
       "      <td>3835.000000</td>\n",
       "      <td>3835.000000</td>\n",
       "      <td>3835.000000</td>\n",
       "      <td>3.835000e+03</td>\n",
       "    </tr>\n",
       "    <tr>\n",
       "      <th>mean</th>\n",
       "      <td>202.279884</td>\n",
       "      <td>206.213686</td>\n",
       "      <td>198.229599</td>\n",
       "      <td>202.051218</td>\n",
       "      <td>194.341156</td>\n",
       "      <td>2.393256e+06</td>\n",
       "    </tr>\n",
       "    <tr>\n",
       "      <th>std</th>\n",
       "      <td>131.984706</td>\n",
       "      <td>134.094221</td>\n",
       "      <td>129.613500</td>\n",
       "      <td>131.829035</td>\n",
       "      <td>129.834825</td>\n",
       "      <td>6.194752e+06</td>\n",
       "    </tr>\n",
       "    <tr>\n",
       "      <th>min</th>\n",
       "      <td>33.900002</td>\n",
       "      <td>36.000000</td>\n",
       "      <td>27.430000</td>\n",
       "      <td>34.009998</td>\n",
       "      <td>29.969580</td>\n",
       "      <td>0.000000e+00</td>\n",
       "    </tr>\n",
       "    <tr>\n",
       "      <th>25%</th>\n",
       "      <td>69.959999</td>\n",
       "      <td>70.860001</td>\n",
       "      <td>68.044998</td>\n",
       "      <td>69.424999</td>\n",
       "      <td>63.620535</td>\n",
       "      <td>1.928075e+05</td>\n",
       "    </tr>\n",
       "    <tr>\n",
       "      <th>50%</th>\n",
       "      <td>175.190002</td>\n",
       "      <td>178.350006</td>\n",
       "      <td>171.449997</td>\n",
       "      <td>175.250000</td>\n",
       "      <td>169.611038</td>\n",
       "      <td>9.224140e+05</td>\n",
       "    </tr>\n",
       "    <tr>\n",
       "      <th>75%</th>\n",
       "      <td>295.024994</td>\n",
       "      <td>301.449997</td>\n",
       "      <td>290.150009</td>\n",
       "      <td>295.274994</td>\n",
       "      <td>283.758866</td>\n",
       "      <td>2.008460e+06</td>\n",
       "    </tr>\n",
       "    <tr>\n",
       "      <th>max</th>\n",
       "      <td>532.500000</td>\n",
       "      <td>534.000000</td>\n",
       "      <td>516.650024</td>\n",
       "      <td>528.150024</td>\n",
       "      <td>514.796814</td>\n",
       "      <td>2.082185e+08</td>\n",
       "    </tr>\n",
       "  </tbody>\n",
       "</table>\n",
       "</div>"
      ],
      "text/plain": [
       "              Open         High          Low        Close    Adj Close  \\\n",
       "count  3835.000000  3835.000000  3835.000000  3835.000000  3835.000000   \n",
       "mean    202.279884   206.213686   198.229599   202.051218   194.341156   \n",
       "std     131.984706   134.094221   129.613500   131.829035   129.834825   \n",
       "min      33.900002    36.000000    27.430000    34.009998    29.969580   \n",
       "25%      69.959999    70.860001    68.044998    69.424999    63.620535   \n",
       "50%     175.190002   178.350006   171.449997   175.250000   169.611038   \n",
       "75%     295.024994   301.449997   290.150009   295.274994   283.758866   \n",
       "max     532.500000   534.000000   516.650024   528.150024   514.796814   \n",
       "\n",
       "             Volume  \n",
       "count  3.835000e+03  \n",
       "mean   2.393256e+06  \n",
       "std    6.194752e+06  \n",
       "min    0.000000e+00  \n",
       "25%    1.928075e+05  \n",
       "50%    9.224140e+05  \n",
       "75%    2.008460e+06  \n",
       "max    2.082185e+08  "
      ]
     },
     "execution_count": 7,
     "metadata": {},
     "output_type": "execute_result"
    }
   ],
   "source": [
    "MF.describe()"
   ]
  },
  {
   "cell_type": "code",
   "execution_count": 8,
   "id": "8dbd5439",
   "metadata": {},
   "outputs": [
    {
     "data": {
      "text/plain": [
       "Date          0\n",
       "Open         14\n",
       "High         14\n",
       "Low          14\n",
       "Close        14\n",
       "Adj Close    14\n",
       "Volume       14\n",
       "dtype: int64"
      ]
     },
     "execution_count": 8,
     "metadata": {},
     "output_type": "execute_result"
    }
   ],
   "source": [
    "MF.isnull().sum()"
   ]
  },
  {
   "cell_type": "code",
   "execution_count": 10,
   "id": "0d7fa51e",
   "metadata": {},
   "outputs": [],
   "source": [
    "MF1 = MF.dropna()"
   ]
  },
  {
   "cell_type": "code",
   "execution_count": 11,
   "id": "8d284c4e",
   "metadata": {},
   "outputs": [
    {
     "data": {
      "text/plain": [
       "(3835, 7)"
      ]
     },
     "execution_count": 11,
     "metadata": {},
     "output_type": "execute_result"
    }
   ],
   "source": [
    "MF1.shape"
   ]
  },
  {
   "cell_type": "code",
   "execution_count": 13,
   "id": "c3d54a87",
   "metadata": {},
   "outputs": [
    {
     "data": {
      "text/plain": [
       "Date         0\n",
       "Open         0\n",
       "High         0\n",
       "Low          0\n",
       "Close        0\n",
       "Adj Close    0\n",
       "Volume       0\n",
       "dtype: int64"
      ]
     },
     "execution_count": 13,
     "metadata": {},
     "output_type": "execute_result"
    }
   ],
   "source": [
    "MF1.isnull().sum()"
   ]
  },
  {
   "cell_type": "code",
   "execution_count": 24,
   "id": "c703215b",
   "metadata": {},
   "outputs": [],
   "source": [
    "X= MF1[['Open','High','Low','Volume']]\n",
    "Y= MF1['Close']"
   ]
  },
  {
   "cell_type": "code",
   "execution_count": 36,
   "id": "5b79851f",
   "metadata": {},
   "outputs": [],
   "source": [
    "X_train,X_test,Y_train,Y_test = train_test_split(X,Y,test_size=0.30)"
   ]
  },
  {
   "cell_type": "code",
   "execution_count": 37,
   "id": "090475f0",
   "metadata": {},
   "outputs": [
    {
     "data": {
      "text/plain": [
       "((2684, 4), (2684,), (1151, 4), (1151,))"
      ]
     },
     "execution_count": 37,
     "metadata": {},
     "output_type": "execute_result"
    }
   ],
   "source": [
    "X_train.shape,Y_train.shape,X_test.shape,Y_test.shape"
   ]
  },
  {
   "cell_type": "code",
   "execution_count": 38,
   "id": "81e318ae",
   "metadata": {},
   "outputs": [
    {
     "data": {
      "text/html": [
       "<div>\n",
       "<style scoped>\n",
       "    .dataframe tbody tr th:only-of-type {\n",
       "        vertical-align: middle;\n",
       "    }\n",
       "\n",
       "    .dataframe tbody tr th {\n",
       "        vertical-align: top;\n",
       "    }\n",
       "\n",
       "    .dataframe thead th {\n",
       "        text-align: right;\n",
       "    }\n",
       "</style>\n",
       "<table border=\"1\" class=\"dataframe\">\n",
       "  <thead>\n",
       "    <tr style=\"text-align: right;\">\n",
       "      <th></th>\n",
       "      <th>Open</th>\n",
       "      <th>High</th>\n",
       "      <th>Low</th>\n",
       "      <th>Volume</th>\n",
       "    </tr>\n",
       "  </thead>\n",
       "  <tbody>\n",
       "    <tr>\n",
       "      <th>2228</th>\n",
       "      <td>265.899994</td>\n",
       "      <td>268.000000</td>\n",
       "      <td>261.000000</td>\n",
       "      <td>1458125.0</td>\n",
       "    </tr>\n",
       "    <tr>\n",
       "      <th>131</th>\n",
       "      <td>47.000000</td>\n",
       "      <td>48.400002</td>\n",
       "      <td>47.000000</td>\n",
       "      <td>73735.0</td>\n",
       "    </tr>\n",
       "    <tr>\n",
       "      <th>764</th>\n",
       "      <td>41.720001</td>\n",
       "      <td>41.880001</td>\n",
       "      <td>39.599998</td>\n",
       "      <td>40360.0</td>\n",
       "    </tr>\n",
       "    <tr>\n",
       "      <th>1472</th>\n",
       "      <td>146.610001</td>\n",
       "      <td>154.679993</td>\n",
       "      <td>146.520004</td>\n",
       "      <td>177540.0</td>\n",
       "    </tr>\n",
       "    <tr>\n",
       "      <th>275</th>\n",
       "      <td>47.000000</td>\n",
       "      <td>47.790001</td>\n",
       "      <td>46.020000</td>\n",
       "      <td>63495.0</td>\n",
       "    </tr>\n",
       "    <tr>\n",
       "      <th>...</th>\n",
       "      <td>...</td>\n",
       "      <td>...</td>\n",
       "      <td>...</td>\n",
       "      <td>...</td>\n",
       "    </tr>\n",
       "    <tr>\n",
       "      <th>2138</th>\n",
       "      <td>311.000000</td>\n",
       "      <td>342.000000</td>\n",
       "      <td>309.450012</td>\n",
       "      <td>4809799.0</td>\n",
       "    </tr>\n",
       "    <tr>\n",
       "      <th>169</th>\n",
       "      <td>47.000000</td>\n",
       "      <td>50.200001</td>\n",
       "      <td>47.000000</td>\n",
       "      <td>48570.0</td>\n",
       "    </tr>\n",
       "    <tr>\n",
       "      <th>2149</th>\n",
       "      <td>293.549988</td>\n",
       "      <td>303.500000</td>\n",
       "      <td>293.549988</td>\n",
       "      <td>973390.0</td>\n",
       "    </tr>\n",
       "    <tr>\n",
       "      <th>595</th>\n",
       "      <td>47.810001</td>\n",
       "      <td>49.599998</td>\n",
       "      <td>47.810001</td>\n",
       "      <td>30180.0</td>\n",
       "    </tr>\n",
       "    <tr>\n",
       "      <th>862</th>\n",
       "      <td>44.200001</td>\n",
       "      <td>44.779999</td>\n",
       "      <td>44.080002</td>\n",
       "      <td>55345.0</td>\n",
       "    </tr>\n",
       "  </tbody>\n",
       "</table>\n",
       "<p>2684 rows × 4 columns</p>\n",
       "</div>"
      ],
      "text/plain": [
       "            Open        High         Low     Volume\n",
       "2228  265.899994  268.000000  261.000000  1458125.0\n",
       "131    47.000000   48.400002   47.000000    73735.0\n",
       "764    41.720001   41.880001   39.599998    40360.0\n",
       "1472  146.610001  154.679993  146.520004   177540.0\n",
       "275    47.000000   47.790001   46.020000    63495.0\n",
       "...          ...         ...         ...        ...\n",
       "2138  311.000000  342.000000  309.450012  4809799.0\n",
       "169    47.000000   50.200001   47.000000    48570.0\n",
       "2149  293.549988  303.500000  293.549988   973390.0\n",
       "595    47.810001   49.599998   47.810001    30180.0\n",
       "862    44.200001   44.779999   44.080002    55345.0\n",
       "\n",
       "[2684 rows x 4 columns]"
      ]
     },
     "execution_count": 38,
     "metadata": {},
     "output_type": "execute_result"
    }
   ],
   "source": [
    "X_train"
   ]
  },
  {
   "cell_type": "code",
   "execution_count": 39,
   "id": "9da243f9",
   "metadata": {},
   "outputs": [
    {
     "data": {
      "text/plain": [
       "2228    265.299988\n",
       "131      47.000000\n",
       "764      40.669998\n",
       "1472    151.869995\n",
       "275      46.990002\n",
       "           ...    \n",
       "2138    333.200012\n",
       "169      49.939999\n",
       "2149    302.450012\n",
       "595      48.900002\n",
       "862      44.570000\n",
       "Name: Close, Length: 2684, dtype: float64"
      ]
     },
     "execution_count": 39,
     "metadata": {},
     "output_type": "execute_result"
    }
   ],
   "source": [
    "Y_train"
   ]
  },
  {
   "cell_type": "code",
   "execution_count": 40,
   "id": "9679e94f",
   "metadata": {},
   "outputs": [
    {
     "data": {
      "text/html": [
       "<div>\n",
       "<style scoped>\n",
       "    .dataframe tbody tr th:only-of-type {\n",
       "        vertical-align: middle;\n",
       "    }\n",
       "\n",
       "    .dataframe tbody tr th {\n",
       "        vertical-align: top;\n",
       "    }\n",
       "\n",
       "    .dataframe thead th {\n",
       "        text-align: right;\n",
       "    }\n",
       "</style>\n",
       "<table border=\"1\" class=\"dataframe\">\n",
       "  <thead>\n",
       "    <tr style=\"text-align: right;\">\n",
       "      <th></th>\n",
       "      <th>Open</th>\n",
       "      <th>High</th>\n",
       "      <th>Low</th>\n",
       "      <th>Volume</th>\n",
       "    </tr>\n",
       "  </thead>\n",
       "  <tbody>\n",
       "    <tr>\n",
       "      <th>1393</th>\n",
       "      <td>132.419998</td>\n",
       "      <td>135.979996</td>\n",
       "      <td>132.199997</td>\n",
       "      <td>611110.0</td>\n",
       "    </tr>\n",
       "    <tr>\n",
       "      <th>3782</th>\n",
       "      <td>160.000000</td>\n",
       "      <td>162.199997</td>\n",
       "      <td>159.000000</td>\n",
       "      <td>3816556.0</td>\n",
       "    </tr>\n",
       "    <tr>\n",
       "      <th>165</th>\n",
       "      <td>51.000000</td>\n",
       "      <td>51.380001</td>\n",
       "      <td>49.240002</td>\n",
       "      <td>36345.0</td>\n",
       "    </tr>\n",
       "    <tr>\n",
       "      <th>342</th>\n",
       "      <td>46.000000</td>\n",
       "      <td>48.759998</td>\n",
       "      <td>46.000000</td>\n",
       "      <td>42540.0</td>\n",
       "    </tr>\n",
       "    <tr>\n",
       "      <th>2466</th>\n",
       "      <td>229.000000</td>\n",
       "      <td>234.000000</td>\n",
       "      <td>226.800003</td>\n",
       "      <td>757248.0</td>\n",
       "    </tr>\n",
       "    <tr>\n",
       "      <th>...</th>\n",
       "      <td>...</td>\n",
       "      <td>...</td>\n",
       "      <td>...</td>\n",
       "      <td>...</td>\n",
       "    </tr>\n",
       "    <tr>\n",
       "      <th>2621</th>\n",
       "      <td>363.450012</td>\n",
       "      <td>372.000000</td>\n",
       "      <td>362.450012</td>\n",
       "      <td>3288765.0</td>\n",
       "    </tr>\n",
       "    <tr>\n",
       "      <th>2393</th>\n",
       "      <td>247.000000</td>\n",
       "      <td>247.000000</td>\n",
       "      <td>241.300003</td>\n",
       "      <td>875597.0</td>\n",
       "    </tr>\n",
       "    <tr>\n",
       "      <th>3790</th>\n",
       "      <td>155.100006</td>\n",
       "      <td>155.649994</td>\n",
       "      <td>154.000000</td>\n",
       "      <td>3197436.0</td>\n",
       "    </tr>\n",
       "    <tr>\n",
       "      <th>3533</th>\n",
       "      <td>126.207352</td>\n",
       "      <td>127.182869</td>\n",
       "      <td>123.799049</td>\n",
       "      <td>15571569.0</td>\n",
       "    </tr>\n",
       "    <tr>\n",
       "      <th>3687</th>\n",
       "      <td>221.000000</td>\n",
       "      <td>223.550003</td>\n",
       "      <td>216.199997</td>\n",
       "      <td>9647660.0</td>\n",
       "    </tr>\n",
       "  </tbody>\n",
       "</table>\n",
       "<p>1151 rows × 4 columns</p>\n",
       "</div>"
      ],
      "text/plain": [
       "            Open        High         Low      Volume\n",
       "1393  132.419998  135.979996  132.199997    611110.0\n",
       "3782  160.000000  162.199997  159.000000   3816556.0\n",
       "165    51.000000   51.380001   49.240002     36345.0\n",
       "342    46.000000   48.759998   46.000000     42540.0\n",
       "2466  229.000000  234.000000  226.800003    757248.0\n",
       "...          ...         ...         ...         ...\n",
       "2621  363.450012  372.000000  362.450012   3288765.0\n",
       "2393  247.000000  247.000000  241.300003    875597.0\n",
       "3790  155.100006  155.649994  154.000000   3197436.0\n",
       "3533  126.207352  127.182869  123.799049  15571569.0\n",
       "3687  221.000000  223.550003  216.199997   9647660.0\n",
       "\n",
       "[1151 rows x 4 columns]"
      ]
     },
     "execution_count": 40,
     "metadata": {},
     "output_type": "execute_result"
    }
   ],
   "source": [
    "X_test"
   ]
  },
  {
   "cell_type": "code",
   "execution_count": 41,
   "id": "cc6a068d",
   "metadata": {},
   "outputs": [
    {
     "data": {
      "text/plain": [
       "1393    134.020004\n",
       "3782    161.699997\n",
       "165      49.560001\n",
       "342      48.209999\n",
       "2466    232.100006\n",
       "           ...    \n",
       "2621    364.950012\n",
       "2393    243.050003\n",
       "3790    154.399994\n",
       "3533    124.378258\n",
       "3687    218.600006\n",
       "Name: Close, Length: 1151, dtype: float64"
      ]
     },
     "execution_count": 41,
     "metadata": {},
     "output_type": "execute_result"
    }
   ],
   "source": [
    "Y_test"
   ]
  },
  {
   "cell_type": "code",
   "execution_count": 44,
   "id": "20478420",
   "metadata": {},
   "outputs": [
    {
     "data": {
      "text/plain": [
       "LinearRegression()"
      ]
     },
     "execution_count": 44,
     "metadata": {},
     "output_type": "execute_result"
    }
   ],
   "source": [
    "reg_model = LinearRegression()\n",
    "reg_model.fit(X_train,Y_train)"
   ]
  },
  {
   "cell_type": "code",
   "execution_count": 48,
   "id": "1492fdc7",
   "metadata": {},
   "outputs": [
    {
     "data": {
      "text/html": [
       "<div>\n",
       "<style scoped>\n",
       "    .dataframe tbody tr th:only-of-type {\n",
       "        vertical-align: middle;\n",
       "    }\n",
       "\n",
       "    .dataframe tbody tr th {\n",
       "        vertical-align: top;\n",
       "    }\n",
       "\n",
       "    .dataframe thead th {\n",
       "        text-align: right;\n",
       "    }\n",
       "</style>\n",
       "<table border=\"1\" class=\"dataframe\">\n",
       "  <thead>\n",
       "    <tr style=\"text-align: right;\">\n",
       "      <th></th>\n",
       "      <th>Actual Price</th>\n",
       "      <th>Predicted Price</th>\n",
       "    </tr>\n",
       "  </thead>\n",
       "  <tbody>\n",
       "    <tr>\n",
       "      <th>1393</th>\n",
       "      <td>134.020004</td>\n",
       "      <td>134.657735</td>\n",
       "    </tr>\n",
       "    <tr>\n",
       "      <th>3782</th>\n",
       "      <td>161.699997</td>\n",
       "      <td>160.697444</td>\n",
       "    </tr>\n",
       "    <tr>\n",
       "      <th>165</th>\n",
       "      <td>49.560001</td>\n",
       "      <td>49.809144</td>\n",
       "    </tr>\n",
       "    <tr>\n",
       "      <th>342</th>\n",
       "      <td>48.209999</td>\n",
       "      <td>47.817752</td>\n",
       "    </tr>\n",
       "    <tr>\n",
       "      <th>2466</th>\n",
       "      <td>232.100006</td>\n",
       "      <td>230.855174</td>\n",
       "    </tr>\n",
       "    <tr>\n",
       "      <th>3840</th>\n",
       "      <td>188.649994</td>\n",
       "      <td>188.964360</td>\n",
       "    </tr>\n",
       "    <tr>\n",
       "      <th>1078</th>\n",
       "      <td>113.040001</td>\n",
       "      <td>115.039665</td>\n",
       "    </tr>\n",
       "    <tr>\n",
       "      <th>201</th>\n",
       "      <td>53.599998</td>\n",
       "      <td>53.537999</td>\n",
       "    </tr>\n",
       "    <tr>\n",
       "      <th>895</th>\n",
       "      <td>50.209999</td>\n",
       "      <td>50.011309</td>\n",
       "    </tr>\n",
       "    <tr>\n",
       "      <th>3051</th>\n",
       "      <td>469.399994</td>\n",
       "      <td>469.886818</td>\n",
       "    </tr>\n",
       "    <tr>\n",
       "      <th>1214</th>\n",
       "      <td>139.570007</td>\n",
       "      <td>137.251863</td>\n",
       "    </tr>\n",
       "    <tr>\n",
       "      <th>1961</th>\n",
       "      <td>245.000000</td>\n",
       "      <td>243.986964</td>\n",
       "    </tr>\n",
       "    <tr>\n",
       "      <th>1253</th>\n",
       "      <td>153.509995</td>\n",
       "      <td>154.658705</td>\n",
       "    </tr>\n",
       "    <tr>\n",
       "      <th>2824</th>\n",
       "      <td>404.750000</td>\n",
       "      <td>406.208665</td>\n",
       "    </tr>\n",
       "    <tr>\n",
       "      <th>1567</th>\n",
       "      <td>134.389999</td>\n",
       "      <td>132.684140</td>\n",
       "    </tr>\n",
       "    <tr>\n",
       "      <th>1131</th>\n",
       "      <td>142.330002</td>\n",
       "      <td>143.230734</td>\n",
       "    </tr>\n",
       "    <tr>\n",
       "      <th>2574</th>\n",
       "      <td>335.049988</td>\n",
       "      <td>332.126770</td>\n",
       "    </tr>\n",
       "    <tr>\n",
       "      <th>2530</th>\n",
       "      <td>324.049988</td>\n",
       "      <td>325.368759</td>\n",
       "    </tr>\n",
       "    <tr>\n",
       "      <th>484</th>\n",
       "      <td>62.020000</td>\n",
       "      <td>60.413324</td>\n",
       "    </tr>\n",
       "    <tr>\n",
       "      <th>3580</th>\n",
       "      <td>137.250000</td>\n",
       "      <td>139.221571</td>\n",
       "    </tr>\n",
       "    <tr>\n",
       "      <th>3338</th>\n",
       "      <td>337.299988</td>\n",
       "      <td>340.227708</td>\n",
       "    </tr>\n",
       "    <tr>\n",
       "      <th>157</th>\n",
       "      <td>48.599998</td>\n",
       "      <td>48.332959</td>\n",
       "    </tr>\n",
       "    <tr>\n",
       "      <th>3322</th>\n",
       "      <td>319.950012</td>\n",
       "      <td>319.125033</td>\n",
       "    </tr>\n",
       "    <tr>\n",
       "      <th>1716</th>\n",
       "      <td>214.350006</td>\n",
       "      <td>213.696682</td>\n",
       "    </tr>\n",
       "    <tr>\n",
       "      <th>3106</th>\n",
       "      <td>372.399994</td>\n",
       "      <td>385.371339</td>\n",
       "    </tr>\n",
       "    <tr>\n",
       "      <th>3200</th>\n",
       "      <td>398.750000</td>\n",
       "      <td>398.409564</td>\n",
       "    </tr>\n",
       "    <tr>\n",
       "      <th>2493</th>\n",
       "      <td>275.700012</td>\n",
       "      <td>273.168177</td>\n",
       "    </tr>\n",
       "    <tr>\n",
       "      <th>1018</th>\n",
       "      <td>83.540001</td>\n",
       "      <td>83.341427</td>\n",
       "    </tr>\n",
       "    <tr>\n",
       "      <th>3548</th>\n",
       "      <td>128.050003</td>\n",
       "      <td>128.123559</td>\n",
       "    </tr>\n",
       "    <tr>\n",
       "      <th>1847</th>\n",
       "      <td>273.700012</td>\n",
       "      <td>272.122603</td>\n",
       "    </tr>\n",
       "    <tr>\n",
       "      <th>1209</th>\n",
       "      <td>137.669998</td>\n",
       "      <td>136.346440</td>\n",
       "    </tr>\n",
       "    <tr>\n",
       "      <th>3419</th>\n",
       "      <td>364.600006</td>\n",
       "      <td>360.836957</td>\n",
       "    </tr>\n",
       "    <tr>\n",
       "      <th>1469</th>\n",
       "      <td>145.520004</td>\n",
       "      <td>146.440105</td>\n",
       "    </tr>\n",
       "    <tr>\n",
       "      <th>3502</th>\n",
       "      <td>85.174721</td>\n",
       "      <td>85.859184</td>\n",
       "    </tr>\n",
       "    <tr>\n",
       "      <th>593</th>\n",
       "      <td>49.250000</td>\n",
       "      <td>49.278993</td>\n",
       "    </tr>\n",
       "    <tr>\n",
       "      <th>2492</th>\n",
       "      <td>263.950012</td>\n",
       "      <td>266.979273</td>\n",
       "    </tr>\n",
       "    <tr>\n",
       "      <th>1146</th>\n",
       "      <td>154.869995</td>\n",
       "      <td>153.765273</td>\n",
       "    </tr>\n",
       "    <tr>\n",
       "      <th>3217</th>\n",
       "      <td>412.549988</td>\n",
       "      <td>408.392888</td>\n",
       "    </tr>\n",
       "    <tr>\n",
       "      <th>3715</th>\n",
       "      <td>204.300003</td>\n",
       "      <td>202.151957</td>\n",
       "    </tr>\n",
       "    <tr>\n",
       "      <th>3234</th>\n",
       "      <td>424.100006</td>\n",
       "      <td>418.078227</td>\n",
       "    </tr>\n",
       "    <tr>\n",
       "      <th>1991</th>\n",
       "      <td>250.300003</td>\n",
       "      <td>252.966155</td>\n",
       "    </tr>\n",
       "    <tr>\n",
       "      <th>551</th>\n",
       "      <td>52.400002</td>\n",
       "      <td>52.289047</td>\n",
       "    </tr>\n",
       "    <tr>\n",
       "      <th>2303</th>\n",
       "      <td>276.850006</td>\n",
       "      <td>276.217226</td>\n",
       "    </tr>\n",
       "    <tr>\n",
       "      <th>1585</th>\n",
       "      <td>152.470001</td>\n",
       "      <td>151.781357</td>\n",
       "    </tr>\n",
       "    <tr>\n",
       "      <th>269</th>\n",
       "      <td>46.169998</td>\n",
       "      <td>45.876830</td>\n",
       "    </tr>\n",
       "    <tr>\n",
       "      <th>2837</th>\n",
       "      <td>451.000000</td>\n",
       "      <td>450.733256</td>\n",
       "    </tr>\n",
       "    <tr>\n",
       "      <th>1550</th>\n",
       "      <td>126.870003</td>\n",
       "      <td>125.940330</td>\n",
       "    </tr>\n",
       "    <tr>\n",
       "      <th>2338</th>\n",
       "      <td>269.200012</td>\n",
       "      <td>269.778367</td>\n",
       "    </tr>\n",
       "    <tr>\n",
       "      <th>3484</th>\n",
       "      <td>97.704002</td>\n",
       "      <td>96.411725</td>\n",
       "    </tr>\n",
       "    <tr>\n",
       "      <th>1895</th>\n",
       "      <td>289.399994</td>\n",
       "      <td>290.332515</td>\n",
       "    </tr>\n",
       "  </tbody>\n",
       "</table>\n",
       "</div>"
      ],
      "text/plain": [
       "      Actual Price  Predicted Price\n",
       "1393    134.020004       134.657735\n",
       "3782    161.699997       160.697444\n",
       "165      49.560001        49.809144\n",
       "342      48.209999        47.817752\n",
       "2466    232.100006       230.855174\n",
       "3840    188.649994       188.964360\n",
       "1078    113.040001       115.039665\n",
       "201      53.599998        53.537999\n",
       "895      50.209999        50.011309\n",
       "3051    469.399994       469.886818\n",
       "1214    139.570007       137.251863\n",
       "1961    245.000000       243.986964\n",
       "1253    153.509995       154.658705\n",
       "2824    404.750000       406.208665\n",
       "1567    134.389999       132.684140\n",
       "1131    142.330002       143.230734\n",
       "2574    335.049988       332.126770\n",
       "2530    324.049988       325.368759\n",
       "484      62.020000        60.413324\n",
       "3580    137.250000       139.221571\n",
       "3338    337.299988       340.227708\n",
       "157      48.599998        48.332959\n",
       "3322    319.950012       319.125033\n",
       "1716    214.350006       213.696682\n",
       "3106    372.399994       385.371339\n",
       "3200    398.750000       398.409564\n",
       "2493    275.700012       273.168177\n",
       "1018     83.540001        83.341427\n",
       "3548    128.050003       128.123559\n",
       "1847    273.700012       272.122603\n",
       "1209    137.669998       136.346440\n",
       "3419    364.600006       360.836957\n",
       "1469    145.520004       146.440105\n",
       "3502     85.174721        85.859184\n",
       "593      49.250000        49.278993\n",
       "2492    263.950012       266.979273\n",
       "1146    154.869995       153.765273\n",
       "3217    412.549988       408.392888\n",
       "3715    204.300003       202.151957\n",
       "3234    424.100006       418.078227\n",
       "1991    250.300003       252.966155\n",
       "551      52.400002        52.289047\n",
       "2303    276.850006       276.217226\n",
       "1585    152.470001       151.781357\n",
       "269      46.169998        45.876830\n",
       "2837    451.000000       450.733256\n",
       "1550    126.870003       125.940330\n",
       "2338    269.200012       269.778367\n",
       "3484     97.704002        96.411725\n",
       "1895    289.399994       290.332515"
      ]
     },
     "execution_count": 48,
     "metadata": {},
     "output_type": "execute_result"
    }
   ],
   "source": [
    "Y_pred = reg_model.predict(X_test)\n",
    "result = pd.DataFrame({'Actual Price':Y_test,'Predicted Price':Y_pred})\n",
    "result.head(50)"
   ]
  },
  {
   "cell_type": "code",
   "execution_count": 49,
   "id": "1986c749",
   "metadata": {},
   "outputs": [],
   "source": [
    "import math"
   ]
  },
  {
   "cell_type": "code",
   "execution_count": 50,
   "id": "e43d3de6",
   "metadata": {},
   "outputs": [
    {
     "data": {
      "text/plain": [
       "0.9996820399355668"
      ]
     },
     "execution_count": 50,
     "metadata": {},
     "output_type": "execute_result"
    }
   ],
   "source": [
    "reg_model.score(X_test,Y_test)"
   ]
  },
  {
   "cell_type": "code",
   "execution_count": 52,
   "id": "9e536acf",
   "metadata": {},
   "outputs": [
    {
     "name": "stdout",
     "output_type": "stream",
     "text": [
      "Mean Absolute Error: 1.5250553176225634\n"
     ]
    }
   ],
   "source": [
    "print(\"Mean Absolute Error:\",metrics.mean_absolute_error(Y_test,Y_pred))"
   ]
  },
  {
   "cell_type": "code",
   "execution_count": 53,
   "id": "d0a7bcd3",
   "metadata": {},
   "outputs": [
    {
     "name": "stdout",
     "output_type": "stream",
     "text": [
      "Mean Squared Error: 5.490339453643899\n"
     ]
    }
   ],
   "source": [
    "print(\"Mean Squared Error:\",metrics.mean_squared_error(Y_test,Y_pred))"
   ]
  },
  {
   "cell_type": "code",
   "execution_count": 54,
   "id": "efc2641b",
   "metadata": {},
   "outputs": [
    {
     "name": "stdout",
     "output_type": "stream",
     "text": [
      "Root Mean Squared Error: 2.343147339294714\n"
     ]
    }
   ],
   "source": [
    "print(\"Root Mean Squared Error:\",math.sqrt(metrics.mean_squared_error(Y_test,Y_pred)))"
   ]
  },
  {
   "cell_type": "code",
   "execution_count": 56,
   "id": "a70e441c",
   "metadata": {},
   "outputs": [
    {
     "data": {
      "text/plain": [
       "<AxesSubplot:>"
      ]
     },
     "execution_count": 56,
     "metadata": {},
     "output_type": "execute_result"
    },
    {
     "data": {
      "image/png": "[encoded data removed]",
      "text/plain": [
       "<Figure size 720x432 with 1 Axes>"
      ]
     },
     "metadata": {},
     "output_type": "display_data"
    }
   ],
   "source": [
    "graph=result.head(20)\n",
    "graph.plot(kind='bar',figsize=(10,6))"
   ]
  },
  {
   "cell_type": "code",
   "execution_count": 57,
   "id": "75b9bb94",
   "metadata": {},
   "outputs": [
    {
     "data": {
      "text/plain": [
       "(3835, 7)"
      ]
     },
     "execution_count": 57,
     "metadata": {},
     "output_type": "execute_result"
    }
   ],
   "source": [
    "#Get the number of training days\n",
    "MF1.shape"
   ]
  },
  {
   "cell_type": "code",
   "execution_count": 60,
   "id": "711e9b2a",
   "metadata": {},
   "outputs": [
    {
     "data": {
      "image/png": "[encoded data removed]",
      "text/plain": [
       "<Figure size 1152x576 with 1 Axes>"
      ]
     },
     "metadata": {},
     "output_type": "display_data"
    }
   ],
   "source": [
    "#Visualize the close price data\n",
    "plt.figure(figsize=(16,8))\n",
    "plt.title('M&MFIN')\n",
    "plt.xlabel('Days')\n",
    "plt.ylabel('Close Price')\n",
    "plt.plot(MF1['Close'])\n",
    "plt.show()"
   ]
  },
  {
   "cell_type": "code",
   "execution_count": 61,
   "id": "3753e2e6",
   "metadata": {},
   "outputs": [
    {
     "data": {
      "text/html": [
       "<div>\n",
       "<style scoped>\n",
       "    .dataframe tbody tr th:only-of-type {\n",
       "        vertical-align: middle;\n",
       "    }\n",
       "\n",
       "    .dataframe tbody tr th {\n",
       "        vertical-align: top;\n",
       "    }\n",
       "\n",
       "    .dataframe thead th {\n",
       "        text-align: right;\n",
       "    }\n",
       "</style>\n",
       "<table border=\"1\" class=\"dataframe\">\n",
       "  <thead>\n",
       "    <tr style=\"text-align: right;\">\n",
       "      <th></th>\n",
       "      <th>Close</th>\n",
       "    </tr>\n",
       "  </thead>\n",
       "  <tbody>\n",
       "    <tr>\n",
       "      <th>0</th>\n",
       "      <td>46.509998</td>\n",
       "    </tr>\n",
       "    <tr>\n",
       "      <th>1</th>\n",
       "      <td>47.020000</td>\n",
       "    </tr>\n",
       "    <tr>\n",
       "      <th>2</th>\n",
       "      <td>48.759998</td>\n",
       "    </tr>\n",
       "    <tr>\n",
       "      <th>3</th>\n",
       "      <td>46.480000</td>\n",
       "    </tr>\n",
       "    <tr>\n",
       "      <th>4</th>\n",
       "      <td>48.680000</td>\n",
       "    </tr>\n",
       "    <tr>\n",
       "      <th>5</th>\n",
       "      <td>48.930000</td>\n",
       "    </tr>\n",
       "    <tr>\n",
       "      <th>6</th>\n",
       "      <td>49.230000</td>\n",
       "    </tr>\n",
       "    <tr>\n",
       "      <th>7</th>\n",
       "      <td>50.099998</td>\n",
       "    </tr>\n",
       "    <tr>\n",
       "      <th>8</th>\n",
       "      <td>49.189999</td>\n",
       "    </tr>\n",
       "    <tr>\n",
       "      <th>9</th>\n",
       "      <td>48.610001</td>\n",
       "    </tr>\n",
       "  </tbody>\n",
       "</table>\n",
       "</div>"
      ],
      "text/plain": [
       "       Close\n",
       "0  46.509998\n",
       "1  47.020000\n",
       "2  48.759998\n",
       "3  46.480000\n",
       "4  48.680000\n",
       "5  48.930000\n",
       "6  49.230000\n",
       "7  50.099998\n",
       "8  49.189999\n",
       "9  48.610001"
      ]
     },
     "execution_count": 61,
     "metadata": {},
     "output_type": "execute_result"
    }
   ],
   "source": [
    "# Get the close price\n",
    "MF1 = MF1[['Close']]\n",
    "MF1.head(10)"
   ]
  },
  {
   "cell_type": "code",
   "execution_count": 82,
   "id": "59504fd8",
   "metadata": {},
   "outputs": [
    {
     "data": {
      "text/html": [
       "<div>\n",
       "<style scoped>\n",
       "    .dataframe tbody tr th:only-of-type {\n",
       "        vertical-align: middle;\n",
       "    }\n",
       "\n",
       "    .dataframe tbody tr th {\n",
       "        vertical-align: top;\n",
       "    }\n",
       "\n",
       "    .dataframe thead th {\n",
       "        text-align: right;\n",
       "    }\n",
       "</style>\n",
       "<table border=\"1\" class=\"dataframe\">\n",
       "  <thead>\n",
       "    <tr style=\"text-align: right;\">\n",
       "      <th></th>\n",
       "      <th>Close</th>\n",
       "      <th>Prediction</th>\n",
       "    </tr>\n",
       "  </thead>\n",
       "  <tbody>\n",
       "    <tr>\n",
       "      <th>3844</th>\n",
       "      <td>184.550003</td>\n",
       "      <td>NaN</td>\n",
       "    </tr>\n",
       "    <tr>\n",
       "      <th>3845</th>\n",
       "      <td>185.000000</td>\n",
       "      <td>NaN</td>\n",
       "    </tr>\n",
       "    <tr>\n",
       "      <th>3846</th>\n",
       "      <td>186.500000</td>\n",
       "      <td>NaN</td>\n",
       "    </tr>\n",
       "    <tr>\n",
       "      <th>3847</th>\n",
       "      <td>186.050003</td>\n",
       "      <td>NaN</td>\n",
       "    </tr>\n",
       "    <tr>\n",
       "      <th>3848</th>\n",
       "      <td>185.199997</td>\n",
       "      <td>NaN</td>\n",
       "    </tr>\n",
       "  </tbody>\n",
       "</table>\n",
       "</div>"
      ],
      "text/plain": [
       "           Close  Prediction\n",
       "3844  184.550003         NaN\n",
       "3845  185.000000         NaN\n",
       "3846  186.500000         NaN\n",
       "3847  186.050003         NaN\n",
       "3848  185.199997         NaN"
      ]
     },
     "execution_count": 82,
     "metadata": {},
     "output_type": "execute_result"
    }
   ],
   "source": [
    "# Create a variable to predict x days out into the future\n",
    "future_days = 25\n",
    "MF1['Prediction']=MF1[['Close']].shift(-future_days)\n",
    "MF1.tail(5)"
   ]
  },
  {
   "cell_type": "code",
   "execution_count": 83,
   "id": "491c4390",
   "metadata": {},
   "outputs": [
    {
     "name": "stdout",
     "output_type": "stream",
     "text": [
      "[[ 46.509998]\n",
      " [ 47.02    ]\n",
      " [ 48.759998]\n",
      " ...\n",
      " [168.25    ]\n",
      " [170.199997]\n",
      " [168.100006]]\n"
     ]
    }
   ],
   "source": [
    "# Create the feature  data set (X) and convert it into a numpy array and remove the 'x' rows/days\n",
    "X =np.array(MF1.drop(['Prediction'],1))[:-future_days]\n",
    "print(X)"
   ]
  },
  {
   "cell_type": "code",
   "execution_count": 84,
   "id": "063071ff",
   "metadata": {},
   "outputs": [
    {
     "name": "stdout",
     "output_type": "stream",
     "text": [
      "[ 46.419998  46.560001  46.939999 ... 186.5      186.050003 185.199997]\n"
     ]
    }
   ],
   "source": [
    "# Create the target data set (Y) and convert to a numpy array and get all the target values except the last 'x'raws/days\n",
    "Y= np.array(MF1['Prediction'])[:-future_days]\n",
    "print(Y)            "
   ]
  },
  {
   "cell_type": "code",
   "execution_count": 85,
   "id": "78e2a0ae",
   "metadata": {},
   "outputs": [],
   "source": [
    "X_train,X_test,Y_train,Y_test= train_test_split(X,Y,test_size=0.30)"
   ]
  },
  {
   "cell_type": "code",
   "execution_count": 86,
   "id": "c447b5aa",
   "metadata": {},
   "outputs": [
    {
     "data": {
      "text/plain": [
       "((2667, 1), (2667,))"
      ]
     },
     "execution_count": 86,
     "metadata": {},
     "output_type": "execute_result"
    }
   ],
   "source": [
    "X_train.shape,Y_train.shape"
   ]
  },
  {
   "cell_type": "code",
   "execution_count": 87,
   "id": "c7c7c549",
   "metadata": {},
   "outputs": [
    {
     "data": {
      "text/plain": [
       "((1143, 1), (1143,))"
      ]
     },
     "execution_count": 87,
     "metadata": {},
     "output_type": "execute_result"
    }
   ],
   "source": [
    "X_test.shape,Y_test.shape"
   ]
  },
  {
   "cell_type": "code",
   "execution_count": 88,
   "id": "81c1d7dd",
   "metadata": {},
   "outputs": [
    {
     "data": {
      "text/plain": [
       "array([[154.350006],\n",
       "       [156.350006],\n",
       "       [155.699997],\n",
       "       [153.649994],\n",
       "       [152.899994],\n",
       "       [154.      ],\n",
       "       [155.25    ],\n",
       "       [151.350006],\n",
       "       [150.850006],\n",
       "       [148.5     ],\n",
       "       [148.050003],\n",
       "       [142.949997],\n",
       "       [139.399994],\n",
       "       [146.300003],\n",
       "       [146.899994],\n",
       "       [155.100006],\n",
       "       [155.550003],\n",
       "       [159.699997],\n",
       "       [160.149994],\n",
       "       [162.050003],\n",
       "       [166.350006],\n",
       "       [165.149994],\n",
       "       [168.25    ],\n",
       "       [170.199997],\n",
       "       [168.100006]])"
      ]
     },
     "execution_count": 88,
     "metadata": {},
     "output_type": "execute_result"
    }
   ],
   "source": [
    "# Get the last 'x' rows of the future data set\n",
    "x_future = MF1.drop(['Prediction'],1)[:-future_days]\n",
    "x_future = x_future.tail(future_days)\n",
    "x_future = np.array(x_future)\n",
    "x_future"
   ]
  },
  {
   "cell_type": "code",
   "execution_count": 89,
   "id": "747a1904",
   "metadata": {},
   "outputs": [
    {
     "data": {
      "text/plain": [
       "LinearRegression()"
      ]
     },
     "execution_count": 89,
     "metadata": {},
     "output_type": "execute_result"
    }
   ],
   "source": [
    "# Create a model\n",
    "lr_model = LinearRegression()\n",
    "lr_model.fit(X_train,Y_train)"
   ]
  },
  {
   "cell_type": "code",
   "execution_count": 90,
   "id": "bd22cbc2",
   "metadata": {},
   "outputs": [
    {
     "name": "stdout",
     "output_type": "stream",
     "text": [
      "[157.00693287 158.95457251 158.32158086 156.32524731 155.59488245\n",
      " 156.66609009 157.88336486 154.08547341 153.5985635  151.31008109\n",
      " 150.87186509 145.90537817 142.44831489 149.16768041 149.75196353\n",
      " 157.73729773 158.17551373 162.21686014 162.65507613 164.50534255\n",
      " 168.6927707  167.52417523 170.54302251 172.44196824 170.39695538]\n"
     ]
    }
   ],
   "source": [
    "# Show the model linear regression prediction\n",
    "lr_prediction = lr_model.predict(x_future)\n",
    "print(lr_prediction)"
   ]
  },
  {
   "cell_type": "code",
   "execution_count": 91,
   "id": "b50dad35",
   "metadata": {},
   "outputs": [
    {
     "name": "stderr",
     "output_type": "stream",
     "text": [
      "<ipython-input-91-1f89113da39a>:5: SettingWithCopyWarning: \n",
      "A value is trying to be set on a copy of a slice from a DataFrame.\n",
      "Try using .loc[row_indexer,col_indexer] = value instead\n",
      "\n",
      "See the caveats in the documentation: https://pandas.pydata.org/pandas-docs/stable/user_guide/indexing.html#returning-a-view-versus-a-copy\n",
      "  valid['Prediction'] = predictions\n"
     ]
    },
    {
     "data": {
      "image/png": "[encoded data removed]",
      "text/plain": [
       "<Figure size 1440x720 with 1 Axes>"
      ]
     },
     "metadata": {},
     "output_type": "display_data"
    }
   ],
   "source": [
    "#Visualize the data\n",
    "predictions = lr_prediction\n",
    "\n",
    "valid = MF1[X.shape[0]:]\n",
    "valid['Prediction'] = predictions\n",
    "plt.figure(figsize=(20,10))\n",
    "plt.title('M&MFIN')\n",
    "plt.xlabel('Days')\n",
    "plt.ylabel('Close Price')\n",
    "plt.plot(MF1['Close'])\n",
    "plt.plot(valid[['Close', 'Prediction']])\n",
    "plt.legend(['Orig','Val','Pred'])\n",
    "plt.show()"
   ]
  },
  {
   "cell_type": "code",
   "execution_count": null,
   "id": "1c1b20f3",
   "metadata": {},
   "outputs": [],
   "source": []
  }
 ],
 "metadata": {
  "kernelspec": {
   "display_name": "Python 3",
   "language": "python",
   "name": "python3"
  },
  "language_info": {
   "codemirror_mode": {
    "name": "ipython",
    "version": 3
   },
   "file_extension": ".py",
   "mimetype": "text/x-python",
   "name": "python",
   "nbconvert_exporter": "python",
   "pygments_lexer": "ipython3",
   "version": "3.8.8"
  }
 },
 "nbformat": 4,
 "nbformat_minor": 5
}
